{
 "cells": [
  {
   "cell_type": "code",
   "execution_count": 1,
   "metadata": {},
   "outputs": [],
   "source": [
    "'''\n",
    "Author: sunflower-you m13119160579@163.com\n",
    "Date: 2024-05-21 22:13:30\n",
    "LastEditors: sunflower-you m13119160579@163.com\n",
    "LastEditTime: 2024-05-21 22:53:03\n",
    "FilePath: /python/project/register/register.ipynb\n",
    "Description: 这是默认设置,请设置`customMade`, 打开koroFileHeader查看配置 进行设置: https://github.com/OBKoro1/koro1FileHeader/wiki/%E9%85%8D%E7%BD%AE\n",
    "'''\n",
    "from easydict import EasyDict"
   ]
  },
  {
   "cell_type": "code",
   "execution_count": 2,
   "metadata": {},
   "outputs": [],
   "source": [
    "def _register_generic(module_dict, module_name, module):\n",
    "    if isinstance(module_name, list):\n",
    "        for module_name_item in module_name:\n",
    "            assert module_name_item not in module_dict\n",
    "            module_dict[module_name_item] = module\n",
    "    else:\n",
    "        assert module_name not in module_dict\n",
    "        module_dict[module_name] = module"
   ]
  },
  {
   "cell_type": "code",
   "execution_count": 3,
   "metadata": {},
   "outputs": [],
   "source": [
    "class Registry(EasyDict):\n",
    "    \"\"\"\n",
    "        注册器：\n",
    "    \"\"\"\n",
    "\n",
    "    def __init__(self, *args, **kwargs):\n",
    "        super(Registry, self).__init__(*args, **kwargs)\n",
    "\n",
    "    def register(self, module_name, module=None):\n",
    "        # used as function call\n",
    "        if module is not None:\n",
    "            if isinstance(module, object):\n",
    "                assert hasattr(module, \"__call__\")\n",
    "            _register_generic(self, module_name, module)\n",
    "            return\n",
    "\n",
    "        # used as decorator\n",
    "        def register_fn(fn):\n",
    "            _register_generic(self, module_name, fn)\n",
    "            return fn\n",
    "\n",
    "        return register_fn\n"
   ]
  },
  {
   "cell_type": "code",
   "execution_count": 4,
   "metadata": {},
   "outputs": [],
   "source": [
    "ACTIVATION_class = Registry()"
   ]
  },
  {
   "cell_type": "code",
   "execution_count": 5,
   "metadata": {},
   "outputs": [],
   "source": [
    "from typing import Any\n",
    "import torch\n",
    "\n",
    "class Activation:\n",
    "    def __init__(self) -> None:\n",
    "        pass\n",
    "\n",
    "    def __call__(self, x) -> Any:\n",
    "        raise NotImplementedError()\n",
    "\n",
    "class Silu(Activation):\n",
    "    act_type = \"silu\"\n",
    "    \n",
    "    def __init__(self) -> None:\n",
    "        super().__init__()\n",
    "\n",
    "    def __call__(self, x) -> torch.Tensor:\n",
    "        return x * torch.sigmoid(x)\n",
    "    \n",
    "\n",
    "class Relu(Activation):\n",
    "    act_type = \"relu\"\n",
    "\n",
    "    def __init__(self) -> None:\n",
    "        super().__init__()\n",
    "\n",
    "    def __call__(self, x) -> torch.Tensor:\n",
    "        return torch.relu(x)"
   ]
  },
  {
   "cell_type": "code",
   "execution_count": 6,
   "metadata": {},
   "outputs": [],
   "source": [
    "from enum import Enum, IntEnum\n",
    "\n",
    "class ActivationType(str, Enum):\n",
    "    Silu = \"Silu\"\n",
    "    Relu = \"Relu\""
   ]
  },
  {
   "cell_type": "code",
   "execution_count": 7,
   "metadata": {},
   "outputs": [],
   "source": [
    "ACTIVATION_class.register(ActivationType.Silu, Silu)\n",
    "ACTIVATION_class.register(ActivationType.Relu, Relu)"
   ]
  },
  {
   "cell_type": "code",
   "execution_count": 8,
   "metadata": {},
   "outputs": [],
   "source": [
    "# test\n",
    "input_tensor = torch.arange(-1, 5)"
   ]
  },
  {
   "cell_type": "code",
   "execution_count": 9,
   "metadata": {},
   "outputs": [
    {
     "name": "stdout",
     "output_type": "stream",
     "text": [
      "tensor([0, 0, 1, 2, 3, 4])\n"
     ]
    }
   ],
   "source": [
    "output = ACTIVATION_class[\"Relu\"]()(input_tensor)\n",
    "print(output)"
   ]
  }
 ],
 "metadata": {
  "kernelspec": {
   "display_name": "tvm_conda",
   "language": "python",
   "name": "python3"
  },
  "language_info": {
   "codemirror_mode": {
    "name": "ipython",
    "version": 3
   },
   "file_extension": ".py",
   "mimetype": "text/x-python",
   "name": "python",
   "nbconvert_exporter": "python",
   "pygments_lexer": "ipython3",
   "version": "3.8.5"
  }
 },
 "nbformat": 4,
 "nbformat_minor": 2
}
