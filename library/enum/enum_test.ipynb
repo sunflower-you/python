{
 "cells": [
  {
   "cell_type": "code",
   "execution_count": 29,
   "metadata": {},
   "outputs": [],
   "source": [
    "'''\n",
    "Author: sunflower-you m13119160579@163.com\n",
    "Date: 2024-05-21 23:47:31\n",
    "LastEditors: sunflower-you m13119160579@163.com\n",
    "LastEditTime: 2024-05-25 21:23:32\n",
    "FilePath: /python/library/enum/enum_test.ipynb\n",
    "Description: 这是默认设置,请设置`customMade`, 打开koroFileHeader查看配置 进行设置: https://github.com/OBKoro1/koro1FileHeader/wiki/%E9%85%8D%E7%BD%AE\n",
    "'''\n",
    "from enum import Enum, IntEnum, unique\n",
    "from icecream import ic"
   ]
  },
  {
   "cell_type": "markdown",
   "metadata": {},
   "source": [
    "# 1、Enum\n",
    "- 继承 Enum，value必须有值\n",
    "- value是int，相当于继承IntEnum\n",
    "- value是str，相当于继承(str, Enum)"
   ]
  },
  {
   "cell_type": "code",
   "execution_count": 34,
   "metadata": {},
   "outputs": [
    {
     "name": "stderr",
     "output_type": "stream",
     "text": [
      "ic| QuantType.SymQuant: <QuantType.SymQuant: 0>\n",
      "    QuantType.SymQuant.name: 'SymQuant'\n",
      "    QuantType.SymQuant.value: 0\n",
      "ic| type(QuantType.SymQuant.value): <class 'int'>\n",
      "ic| type(QuantType.SymQuant): <enum 'QuantType'>\n"
     ]
    },
    {
     "data": {
      "text/plain": [
       "<enum 'QuantType'>"
      ]
     },
     "execution_count": 34,
     "metadata": {},
     "output_type": "execute_result"
    }
   ],
   "source": [
    "class QuantType(Enum):\n",
    "    SymQuant = 0\n",
    "    AsymQuant = 1\n",
    "\n",
    "\n",
    "ic(QuantType.SymQuant, QuantType.SymQuant.name, QuantType.SymQuant.value)\n",
    "ic(type(QuantType.SymQuant.value))\n",
    "ic(type(QuantType.SymQuant))"
   ]
  },
  {
   "cell_type": "code",
   "execution_count": 36,
   "metadata": {},
   "outputs": [
    {
     "name": "stderr",
     "output_type": "stream",
     "text": [
      "ic| QuantType0.SymQuant: <QuantType0.SymQuant: 'SymQuant'>\n",
      "    QuantType0.SymQuant.name: 'SymQuant'\n",
      "    QuantType0.SymQuant.value: 'SymQuant'\n",
      "ic| type(QuantType0.SymQuant.value): <class 'str'>\n",
      "ic| type(QuantType0.SymQuant): <enum 'QuantType0'>\n"
     ]
    },
    {
     "data": {
      "text/plain": [
       "<enum 'QuantType0'>"
      ]
     },
     "execution_count": 36,
     "metadata": {},
     "output_type": "execute_result"
    }
   ],
   "source": [
    "class QuantType0(Enum):\n",
    "    SymQuant = \"SymQuant\"\n",
    "    AsymQuant = \"AsymQuant\"\n",
    "\n",
    "\n",
    "ic(QuantType0.SymQuant, QuantType0.SymQuant.name, QuantType0.SymQuant.value)\n",
    "ic(type(QuantType0.SymQuant.value))\n",
    "ic(type(QuantType0.SymQuant))"
   ]
  },
  {
   "cell_type": "code",
   "execution_count": 37,
   "metadata": {},
   "outputs": [
    {
     "ename": "TypeError",
     "evalue": "new enumerations should be created as `EnumName([mixin_type, ...] [data_type,] enum_type)`",
     "output_type": "error",
     "traceback": [
      "\u001b[0;31m---------------------------------------------------------------------------\u001b[0m",
      "\u001b[0;31mTypeError\u001b[0m                                 Traceback (most recent call last)",
      "Cell \u001b[0;32mIn[37], line 1\u001b[0m\n\u001b[0;32m----> 1\u001b[0m \u001b[38;5;28;01mclass\u001b[39;00m \u001b[38;5;21;01mQuantType1\u001b[39;00m(Enum, \u001b[38;5;28mstr\u001b[39m):\n\u001b[1;32m      2\u001b[0m     SymQuant \u001b[38;5;241m=\u001b[39m \u001b[38;5;124m\"\u001b[39m\u001b[38;5;124mSymQuant\u001b[39m\u001b[38;5;124m\"\u001b[39m\n\u001b[1;32m      3\u001b[0m     AsymQuant \u001b[38;5;241m=\u001b[39m \u001b[38;5;124m\"\u001b[39m\u001b[38;5;124mAsymQuant\u001b[39m\u001b[38;5;124m\"\u001b[39m\n",
      "File \u001b[0;32m~/anaconda3/envs/tvm_conda/lib/python3.8/enum.py:129\u001b[0m, in \u001b[0;36mEnumMeta.__prepare__\u001b[0;34m(metacls, cls, bases)\u001b[0m\n\u001b[1;32m    127\u001b[0m enum_dict \u001b[38;5;241m=\u001b[39m _EnumDict()\n\u001b[1;32m    128\u001b[0m \u001b[38;5;66;03m# inherit previous flags and _generate_next_value_ function\u001b[39;00m\n\u001b[0;32m--> 129\u001b[0m member_type, first_enum \u001b[38;5;241m=\u001b[39m \u001b[43mmetacls\u001b[49m\u001b[38;5;241;43m.\u001b[39;49m\u001b[43m_get_mixins_\u001b[49m\u001b[43m(\u001b[49m\u001b[43mbases\u001b[49m\u001b[43m)\u001b[49m\n\u001b[1;32m    130\u001b[0m \u001b[38;5;28;01mif\u001b[39;00m first_enum \u001b[38;5;129;01mis\u001b[39;00m \u001b[38;5;129;01mnot\u001b[39;00m \u001b[38;5;28;01mNone\u001b[39;00m:\n\u001b[1;32m    131\u001b[0m     enum_dict[\u001b[38;5;124m'\u001b[39m\u001b[38;5;124m_generate_next_value_\u001b[39m\u001b[38;5;124m'\u001b[39m] \u001b[38;5;241m=\u001b[39m \u001b[38;5;28mgetattr\u001b[39m(first_enum, \u001b[38;5;124m'\u001b[39m\u001b[38;5;124m_generate_next_value_\u001b[39m\u001b[38;5;124m'\u001b[39m, \u001b[38;5;28;01mNone\u001b[39;00m)\n",
      "File \u001b[0;32m~/anaconda3/envs/tvm_conda/lib/python3.8/enum.py:503\u001b[0m, in \u001b[0;36mEnumMeta._get_mixins_\u001b[0;34m(bases)\u001b[0m\n\u001b[1;32m    501\u001b[0m first_enum \u001b[38;5;241m=\u001b[39m bases[\u001b[38;5;241m-\u001b[39m\u001b[38;5;241m1\u001b[39m]\n\u001b[1;32m    502\u001b[0m \u001b[38;5;28;01mif\u001b[39;00m \u001b[38;5;129;01mnot\u001b[39;00m \u001b[38;5;28missubclass\u001b[39m(first_enum, Enum):\n\u001b[0;32m--> 503\u001b[0m     \u001b[38;5;28;01mraise\u001b[39;00m \u001b[38;5;167;01mTypeError\u001b[39;00m(\u001b[38;5;124m\"\u001b[39m\u001b[38;5;124mnew enumerations should be created as \u001b[39m\u001b[38;5;124m\"\u001b[39m\n\u001b[1;32m    504\u001b[0m             \u001b[38;5;124m\"\u001b[39m\u001b[38;5;124m`EnumName([mixin_type, ...] [data_type,] enum_type)`\u001b[39m\u001b[38;5;124m\"\u001b[39m)\n\u001b[1;32m    505\u001b[0m member_type \u001b[38;5;241m=\u001b[39m _find_data_type(bases) \u001b[38;5;129;01mor\u001b[39;00m \u001b[38;5;28mobject\u001b[39m\n\u001b[1;32m    506\u001b[0m \u001b[38;5;28;01mif\u001b[39;00m first_enum\u001b[38;5;241m.\u001b[39m_member_names_:\n",
      "\u001b[0;31mTypeError\u001b[0m: new enumerations should be created as `EnumName([mixin_type, ...] [data_type,] enum_type)`"
     ]
    }
   ],
   "source": [
    "class QuantType1(Enum, str):\n",
    "    SymQuant = \"SymQuant\"\n",
    "    AsymQuant = \"AsymQuant\"\n",
    "\n",
    "\n",
    "ic(QuantType1.SymQuant)\n",
    "ic(type(QuantType1.SymQuant))"
   ]
  },
  {
   "cell_type": "code",
   "execution_count": 38,
   "metadata": {},
   "outputs": [
    {
     "name": "stderr",
     "output_type": "stream",
     "text": [
      "ic| QuantType2.SymQuant: <QuantType2.SymQuant: 'SymQuant'>\n",
      "    QuantType2.SymQuant.name: 'SymQuant'\n",
      "    QuantType2.SymQuant.value: 'SymQuant'\n",
      "ic| type(QuantType2.SymQuant.value): <class 'str'>\n",
      "ic| type(QuantType2.SymQuant): <enum 'QuantType2'>\n"
     ]
    },
    {
     "data": {
      "text/plain": [
       "<enum 'QuantType2'>"
      ]
     },
     "execution_count": 38,
     "metadata": {},
     "output_type": "execute_result"
    }
   ],
   "source": [
    "class QuantType2(str, Enum):\n",
    "    SymQuant = \"SymQuant\"\n",
    "    AsymQuant = \"AsymQuant\"\n",
    "\n",
    "\n",
    "ic(QuantType2.SymQuant, QuantType2.SymQuant.name, QuantType2.SymQuant.value)\n",
    "ic(type(QuantType2.SymQuant.value))\n",
    "ic(type(QuantType2.SymQuant))"
   ]
  },
  {
   "cell_type": "markdown",
   "metadata": {},
   "source": [
    "# 2、IntEnum\n",
    "- value的值是int"
   ]
  },
  {
   "cell_type": "code",
   "execution_count": 39,
   "metadata": {},
   "outputs": [
    {
     "name": "stderr",
     "output_type": "stream",
     "text": [
      "ic| QuantType3.SymQuant: <QuantType3.SymQuant: 0>\n",
      "    QuantType3.SymQuant.name: 'SymQuant'\n",
      "    QuantType3.SymQuant.value: 0\n",
      "ic| type(QuantType3.SymQuant.value): <class 'int'>\n",
      "ic| type(QuantType3.SymQuant): <enum 'QuantType3'>\n"
     ]
    },
    {
     "data": {
      "text/plain": [
       "<enum 'QuantType3'>"
      ]
     },
     "execution_count": 39,
     "metadata": {},
     "output_type": "execute_result"
    }
   ],
   "source": [
    "class QuantType3(IntEnum):\n",
    "    SymQuant = 0\n",
    "    AsymQuant = 1\n",
    "\n",
    "\n",
    "ic(QuantType3.SymQuant, QuantType3.SymQuant.name, QuantType3.SymQuant.value)\n",
    "ic(type(QuantType3.SymQuant.value))\n",
    "ic(type(QuantType3.SymQuant))"
   ]
  },
  {
   "cell_type": "markdown",
   "metadata": {},
   "source": [
    "# 3、unique\n",
    "- 检查保证没有重复值, 如果重复报错"
   ]
  },
  {
   "cell_type": "code",
   "execution_count": 44,
   "metadata": {},
   "outputs": [
    {
     "ename": "TypeError",
     "evalue": "Attempted to reuse key: 'Nov'",
     "output_type": "error",
     "traceback": [
      "\u001b[0;31m---------------------------------------------------------------------------\u001b[0m",
      "\u001b[0;31mTypeError\u001b[0m                                 Traceback (most recent call last)",
      "Cell \u001b[0;32mIn[44], line 3\u001b[0m\n\u001b[1;32m      1\u001b[0m \u001b[38;5;66;03m# @unique 装饰器可以帮助我们检查保证没有重复值\u001b[39;00m\n\u001b[1;32m      2\u001b[0m \u001b[38;5;129m@unique\u001b[39m\n\u001b[0;32m----> 3\u001b[0m \u001b[38;5;28;01mclass\u001b[39;00m \u001b[38;5;21;01mMonth\u001b[39;00m(Enum):\n\u001b[1;32m      4\u001b[0m     Jan \u001b[38;5;241m=\u001b[39m \u001b[38;5;124m'\u001b[39m\u001b[38;5;124mJanuary\u001b[39m\u001b[38;5;124m'\u001b[39m\n\u001b[1;32m      5\u001b[0m     Feb \u001b[38;5;241m=\u001b[39m \u001b[38;5;124m'\u001b[39m\u001b[38;5;124mFebruary\u001b[39m\u001b[38;5;124m'\u001b[39m\n",
      "Cell \u001b[0;32mIn[44], line 15\u001b[0m, in \u001b[0;36mMonth\u001b[0;34m()\u001b[0m\n\u001b[1;32m     13\u001b[0m Oct \u001b[38;5;241m=\u001b[39m \u001b[38;5;124m'\u001b[39m\u001b[38;5;124mOctober\u001b[39m\u001b[38;5;124m'\u001b[39m\n\u001b[1;32m     14\u001b[0m Nov \u001b[38;5;241m=\u001b[39m \u001b[38;5;124m'\u001b[39m\u001b[38;5;124mNovember\u001b[39m\u001b[38;5;124m'\u001b[39m\n\u001b[0;32m---> 15\u001b[0m Nov \u001b[38;5;241m=\u001b[39m \u001b[38;5;124m'\u001b[39m\u001b[38;5;124mgg\u001b[39m\u001b[38;5;124m'\u001b[39m\n",
      "File \u001b[0;32m~/anaconda3/envs/tvm_conda/lib/python3.8/enum.py:99\u001b[0m, in \u001b[0;36m_EnumDict.__setitem__\u001b[0;34m(self, key, value)\u001b[0m\n\u001b[1;32m     96\u001b[0m         key \u001b[38;5;241m=\u001b[39m \u001b[38;5;124m'\u001b[39m\u001b[38;5;124m_order_\u001b[39m\u001b[38;5;124m'\u001b[39m\n\u001b[1;32m     97\u001b[0m \u001b[38;5;28;01melif\u001b[39;00m key \u001b[38;5;129;01min\u001b[39;00m \u001b[38;5;28mself\u001b[39m\u001b[38;5;241m.\u001b[39m_member_names:\n\u001b[1;32m     98\u001b[0m     \u001b[38;5;66;03m# descriptor overwriting an enum?\u001b[39;00m\n\u001b[0;32m---> 99\u001b[0m     \u001b[38;5;28;01mraise\u001b[39;00m \u001b[38;5;167;01mTypeError\u001b[39;00m(\u001b[38;5;124m'\u001b[39m\u001b[38;5;124mAttempted to reuse key: \u001b[39m\u001b[38;5;132;01m%r\u001b[39;00m\u001b[38;5;124m'\u001b[39m \u001b[38;5;241m%\u001b[39m key)\n\u001b[1;32m    100\u001b[0m \u001b[38;5;28;01melif\u001b[39;00m key \u001b[38;5;129;01min\u001b[39;00m \u001b[38;5;28mself\u001b[39m\u001b[38;5;241m.\u001b[39m_ignore:\n\u001b[1;32m    101\u001b[0m     \u001b[38;5;28;01mpass\u001b[39;00m\n",
      "\u001b[0;31mTypeError\u001b[0m: Attempted to reuse key: 'Nov'"
     ]
    }
   ],
   "source": [
    "# @unique 装饰器可以帮助我们检查保证没有重复值\n",
    "@unique\n",
    "class Month(Enum):\n",
    "    Jan = 'January'\n",
    "    Feb = 'February'\n",
    "    Mar = 'March'\n",
    "    Apr = 'April'\n",
    "    May = 'May'\n",
    "    Jun = 'June'\n",
    "    Jul = 'July'\n",
    "    Aug = 'August'\n",
    "    Sep = 'September '\n",
    "    Oct = 'October'\n",
    "    Nov = 'November'\n",
    "    Nov = 'gg'"
   ]
  },
  {
   "cell_type": "code",
   "execution_count": 45,
   "metadata": {},
   "outputs": [],
   "source": [
    "@unique\n",
    "class Month(Enum):\n",
    "    Jan = 'January'\n",
    "    Feb = 'February'\n",
    "    Mar = 'March'\n",
    "    Apr = 'April'\n",
    "    May = 'May'\n",
    "    Jun = 'June'\n",
    "    Jul = 'July'\n",
    "    Aug = 'August'\n",
    "    Sep = 'September '\n",
    "    Oct = 'October'\n",
    "    Nov = 'November'"
   ]
  },
  {
   "cell_type": "code",
   "execution_count": 46,
   "metadata": {},
   "outputs": [
    {
     "name": "stdout",
     "output_type": "stream",
     "text": [
      "Month.Jan ---------- Jan ---------- January\n"
     ]
    }
   ],
   "source": [
    "print(Month.Jan, '----------',Month.Jan.name, '----------', Month.Jan.value)"
   ]
  },
  {
   "cell_type": "code",
   "execution_count": 47,
   "metadata": {},
   "outputs": [
    {
     "name": "stdout",
     "output_type": "stream",
     "text": [
      "Jan ---------- Month.Jan ---------- January\n",
      "Feb ---------- Month.Feb ---------- February\n",
      "Mar ---------- Month.Mar ---------- March\n",
      "Apr ---------- Month.Apr ---------- April\n",
      "May ---------- Month.May ---------- May\n",
      "Jun ---------- Month.Jun ---------- June\n",
      "Jul ---------- Month.Jul ---------- July\n",
      "Aug ---------- Month.Aug ---------- August\n",
      "Sep ---------- Month.Sep ---------- September \n",
      "Oct ---------- Month.Oct ---------- October\n",
      "Nov ---------- Month.Nov ---------- November\n"
     ]
    }
   ],
   "source": [
    "for name, member in Month.__members__.items():\n",
    "    print(name, '----------', member, '----------', member.value)"
   ]
  }
 ],
 "metadata": {
  "kernelspec": {
   "display_name": "tvm_conda",
   "language": "python",
   "name": "python3"
  },
  "language_info": {
   "codemirror_mode": {
    "name": "ipython",
    "version": 3
   },
   "file_extension": ".py",
   "mimetype": "text/x-python",
   "name": "python",
   "nbconvert_exporter": "python",
   "pygments_lexer": "ipython3",
   "version": "3.8.5"
  }
 },
 "nbformat": 4,
 "nbformat_minor": 2
}
