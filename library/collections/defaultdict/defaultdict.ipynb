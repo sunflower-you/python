{
 "cells": [
  {
   "cell_type": "code",
   "execution_count": 1,
   "id": "07087ab9",
   "metadata": {},
   "outputs": [
    {
     "ename": "ModuleNotFoundError",
     "evalue": "No module named 'icecream'",
     "output_type": "error",
     "traceback": [
      "\u001b[0;31m---------------------------------------------------------------------------\u001b[0m",
      "\u001b[0;31mModuleNotFoundError\u001b[0m                       Traceback (most recent call last)",
      "Cell \u001b[0;32mIn[1], line 7\u001b[0m\n\u001b[1;32m      1\u001b[0m \u001b[38;5;124;03m'''\u001b[39;00m\n\u001b[1;32m      2\u001b[0m \u001b[38;5;124;03mdefaultdict是collections模块中的一个类。\u001b[39;00m\n\u001b[1;32m      3\u001b[0m \u001b[38;5;124;03mdefaultdict时，我们可以指定一个默认的值类型，并且当我们访问一个不存在的键时，它会返回这个默认值。\u001b[39;00m\n\u001b[1;32m      4\u001b[0m \n\u001b[1;32m      5\u001b[0m \u001b[38;5;124;03m'''\u001b[39;00m\n\u001b[1;32m      6\u001b[0m \u001b[38;5;28;01mfrom\u001b[39;00m \u001b[38;5;21;01mcollections\u001b[39;00m \u001b[38;5;28;01mimport\u001b[39;00m defaultdict\n\u001b[0;32m----> 7\u001b[0m \u001b[38;5;28;01mfrom\u001b[39;00m \u001b[38;5;21;01micecream\u001b[39;00m \u001b[38;5;28;01mimport\u001b[39;00m ic\n\u001b[1;32m      9\u001b[0m a \u001b[38;5;241m=\u001b[39m defaultdict(\u001b[38;5;28mint\u001b[39m)\n\u001b[1;32m     11\u001b[0m ic(a)\n",
      "\u001b[0;31mModuleNotFoundError\u001b[0m: No module named 'icecream'"
     ]
    }
   ],
   "source": [
    "'''\n",
    "defaultdict是collections模块中的一个类。\n",
    "defaultdict时，我们可以指定一个默认的值类型，并且当我们访问一个不存在的键时，它会返回这个默认值。\n",
    "\n",
    "'''\n",
    "from collections import defaultdict\n",
    "from icecream import ic\n",
    "\n",
    "a = defaultdict(int)\n",
    "\n",
    "ic(a)\n",
    "ic(a.get(100))\n",
    "ic(a.get(100,0))\n",
    "ic(a[100])"
   ]
  },
  {
   "cell_type": "code",
   "execution_count": 10,
   "id": "984df5d7",
   "metadata": {},
   "outputs": [
    {
     "name": "stderr",
     "output_type": "stream",
     "text": [
      "ic| b: defaultdict(<function <lambda> at 0x7f5aa02c7430>, {})\n",
      "ic| b.get(100): None\n",
      "ic| b[100]: 0\n",
      "ic| b.get(100,0): 0\n",
      "ic| b[100]: 0\n"
     ]
    },
    {
     "data": {
      "text/plain": [
       "0"
      ]
     },
     "execution_count": 10,
     "metadata": {},
     "output_type": "execute_result"
    }
   ],
   "source": [
    "b = defaultdict(lambda: 0)\n",
    "\n",
    "ic(b)\n",
    "ic(b.get(100))\n",
    "ic(b[100])\n",
    "ic(b.get(100,0))\n",
    "ic(b[100])"
   ]
  },
  {
   "cell_type": "code",
   "execution_count": 12,
   "id": "34ba7ff6",
   "metadata": {},
   "outputs": [
    {
     "name": "stderr",
     "output_type": "stream",
     "text": [
      "ic| d['a']: [1, 3]\n",
      "ic| d['b']: [2]\n",
      "ic| d['c']: []\n",
      "ic| d['D']: []\n"
     ]
    },
    {
     "data": {
      "text/plain": [
       "[]"
      ]
     },
     "execution_count": 12,
     "metadata": {},
     "output_type": "execute_result"
    }
   ],
   "source": [
    "# 创建一个defaultdict，指定默认值为lambda返回的空列表\n",
    "d = defaultdict(lambda: [])\n",
    "\n",
    "d['a'].append(1)\n",
    "d['b'].append(2)\n",
    "d['a'].append(3)\n",
    "\n",
    "ic(d['a'])  # 输出: [1, 3]\n",
    "ic(d['b'])  # 输出: [2]\n",
    "# 当我们访问一个不存在的键时，defaultdict会返回一个空列表。我们可以通过append方法向列表中添加元素。\n",
    "ic(d['c'])  # 输出: []\n",
    "ic(d['D'])  # []"
   ]
  },
  {
   "cell_type": "code",
   "execution_count": null,
   "id": "52535f3f",
   "metadata": {},
   "outputs": [],
   "source": []
  }
 ],
 "metadata": {
  "kernelspec": {
   "display_name": "tvm_conda",
   "language": "python",
   "name": "python3"
  },
  "language_info": {
   "codemirror_mode": {
    "name": "ipython",
    "version": 3
   },
   "file_extension": ".py",
   "mimetype": "text/x-python",
   "name": "python",
   "nbconvert_exporter": "python",
   "pygments_lexer": "ipython3",
   "version": "3.8.5"
  }
 },
 "nbformat": 4,
 "nbformat_minor": 5
}
