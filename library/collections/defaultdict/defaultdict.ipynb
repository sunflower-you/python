{
 "cells": [
  {
   "cell_type": "code",
   "execution_count": 5,
   "id": "07087ab9",
   "metadata": {},
   "outputs": [
    {
     "name": "stderr",
     "output_type": "stream",
     "text": [
      "ic| a: defaultdict(<class 'int'>, {})\n",
      "ic| a.get(100): None\n",
      "ic| a.get(100,0): 0\n",
      "ic| a[100]: 0\n"
     ]
    },
    {
     "data": {
      "text/plain": [
       "0"
      ]
     },
     "execution_count": 5,
     "metadata": {},
     "output_type": "execute_result"
    }
   ],
   "source": [
    "'''\n",
    "defaultdict是collections模块中的一个类。\n",
    "defaultdict时，我们可以指定一个默认的值类型，并且当我们访问一个不存在的键时，它会返回这个默认值。\n",
    "\n",
    "'''\n",
    "from collections import defaultdict\n",
    "from icecream import ic\n",
    "\n",
    "a = defaultdict(int)\n",
    "\n",
    "ic(a)\n",
    "ic(a.get(100))\n",
    "ic(a.get(100,0))\n",
    "ic(a[100])"
   ]
  },
  {
   "cell_type": "code",
   "execution_count": 6,
   "id": "984df5d7",
   "metadata": {},
   "outputs": [
    {
     "name": "stderr",
     "output_type": "stream",
     "text": [
      "ic| b: defaultdict(<function <lambda> at 0x7fdc61c263a0>, {})\n",
      "ic| b.get(100): None\n",
      "ic| b[100]: 0\n",
      "ic| b.get(100,0): 0\n",
      "ic| b[100]: 0\n"
     ]
    },
    {
     "data": {
      "text/plain": [
       "0"
      ]
     },
     "execution_count": 6,
     "metadata": {},
     "output_type": "execute_result"
    }
   ],
   "source": [
    "b = defaultdict(lambda: 0)\n",
    "\n",
    "ic(b)\n",
    "ic(b.get(100))\n",
    "ic(b[100])\n",
    "ic(b.get(100,0))\n",
    "ic(b[100])"
   ]
  },
  {
   "cell_type": "code",
   "execution_count": 7,
   "id": "34ba7ff6",
   "metadata": {},
   "outputs": [
    {
     "name": "stderr",
     "output_type": "stream",
     "text": [
      "ic| d['a']: [1, 3]\n",
      "ic| d['b']: [2]\n",
      "ic| d['c']: []\n",
      "ic| d['D']: []\n"
     ]
    },
    {
     "data": {
      "text/plain": [
       "[]"
      ]
     },
     "execution_count": 7,
     "metadata": {},
     "output_type": "execute_result"
    }
   ],
   "source": [
    "# 创建一个defaultdict，指定默认值为lambda返回的空列表\n",
    "d = defaultdict(lambda: [])\n",
    "\n",
    "d['a'].append(1)\n",
    "d['b'].append(2)\n",
    "d['a'].append(3)\n",
    "\n",
    "ic(d['a'])  # 输出: [1, 3]\n",
    "ic(d['b'])  # 输出: [2]\n",
    "# 当我们访问一个不存在的键时，defaultdict会返回一个空列表。我们可以通过append方法向列表中添加元素。\n",
    "ic(d['c'])  # 输出: []\n",
    "ic(d['D'])  # []"
   ]
  },
  {
   "cell_type": "code",
   "execution_count": null,
   "id": "52535f3f",
   "metadata": {},
   "outputs": [],
   "source": []
  }
 ],
 "metadata": {
  "kernelspec": {
   "display_name": "tvm_conda",
   "language": "python",
   "name": "python3"
  },
  "language_info": {
   "codemirror_mode": {
    "name": "ipython",
    "version": 3
   },
   "file_extension": ".py",
   "mimetype": "text/x-python",
   "name": "python",
   "nbconvert_exporter": "python",
   "pygments_lexer": "ipython3",
   "version": "3.8.5"
  }
 },
 "nbformat": 4,
 "nbformat_minor": 5
}
